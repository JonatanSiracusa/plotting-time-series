{
 "cells": [
  {
   "cell_type": "markdown",
   "id": "151166d8-6f17-4236-90bd-5ba7b0e202b0",
   "metadata": {},
   "source": [
    "# 1. Kick-off: Libraries Importing, Variables Setup and Functions"
   ]
  },
  {
   "cell_type": "markdown",
   "id": "a73f8ac9",
   "metadata": {},
   "source": [
    "### 1.1 Libraries and Variables setup"
   ]
  },
  {
   "cell_type": "code",
   "execution_count": null,
   "id": "d7a4ab65",
   "metadata": {},
   "outputs": [],
   "source": [
    "import numpy as np\n",
    "import pandas as pd\n",
    "import copy\n",
    "import scipy\n",
    "from scipy import stats\n",
    "from scipy.stats import gaussian_kde\n",
    "from fitter import Fitter\n",
    "import math\n",
    "import random\n",
    "import time\n",
    "import datetime as dt\n",
    "from datetime import datetime\n",
    "\n",
    "import yfinance as yf\n",
    "\n",
    "import plotly.express as px\n",
    "import plotly.graph_objects as go\n",
    "from plotly.subplots import make_subplots\n",
    "from plotly.offline import init_notebook_mode\n",
    "init_notebook_mode(connected=True)\n",
    "\n",
    "import cufflinks as cf\n",
    "cf.set_config_file(offline=True, dimensions=(800,500))\n",
    "\n",
    "from IPython.display import display, HTML, Javascript\n",
    "from src.bloomberg_template import set_bloomberg_dark, set_bloomberg_light, get_color, get_colorscale\n",
    "\n",
    "import warnings\n",
    "warnings.simplefilter(\"ignore\")"
   ]
  },
  {
   "cell_type": "markdown",
   "id": "e56f7e2c",
   "metadata": {},
   "source": [
    "Setting the parameters:"
   ]
  },
  {
   "cell_type": "code",
   "execution_count": null,
   "id": "86bbc867",
   "metadata": {},
   "outputs": [],
   "source": [
    "# Medimos el tiempo de ejecucion del programa\n",
    "star_time = time.time()\n",
    "\n",
    "MARKET_DAYS_YEAR = 252\n",
    "OUTPUT_NAME_1 = 'historical-Adj_prices-byma'\n",
    "OUTPUT_NAME_2 = 'historical-Adj_prices_plus-byma'\n",
    "EXPORT_DATA = False\n",
    "\n",
    "TICKERS = ['Index', 'BBAR', 'BMA', 'GGAL', 'SUPV', 'VALO']\n",
    "TICKERS_YF = ['^MERV', 'BBAR.BA', 'BMA.BA', 'GGAL.BA', 'SUPV.BA', 'VALO.BA']\n",
    "\n",
    "START_DATE = '2023-12-11'\n",
    "END_DATE = ''"
   ]
  },
  {
   "cell_type": "markdown",
   "id": "e7418b87",
   "metadata": {},
   "source": [
    "### 1.2 Functions"
   ]
  },
  {
   "cell_type": "code",
   "execution_count": null,
   "id": "d3647a32",
   "metadata": {},
   "outputs": [],
   "source": [
    "def get_data(df, categoria, ticker):\n",
    "\treturn df.loc[:, (categoria, ticker)]\n",
    "\n",
    "\n",
    "text_custom = f\"\"\"\n",
    "\"\"\"\n",
    "print(text_custom.lstrip())\n",
    "\n",
    "\n",
    "def descargar_datos_yf(tickers, start_date=None, end_date=None, delay=2):\n",
    "\tif start_date is None:\n",
    "\t\tstart_date = dt.datetime(2015, 1, 1)\n",
    "\tif end_date is None:\n",
    "\t\tend_date = dt.datetime.now()\n",
    "\n",
    "\tdata_dict = {}\n",
    "\tfor ticker in tickers:\n",
    "\t\ttry:\n",
    "\t\t\tdf = yf.download(ticker, start=start_date, end=end_date, auto_adjust=False, progress=False)\n",
    "\t\t\tif not df.empty:\n",
    "\t\t\t\tdata_dict[ticker] = df\n",
    "\t\t\t\tprint(f'Descargado: {ticker}')\n",
    "\t\t\telse:\n",
    "\t\t\t\tprint(f'Sin datos: {ticker}')\n",
    "\t\texcept Exception as e:\n",
    "\t\t\tprint(f'Error descargando {ticker}: {e}')\n",
    "\t\ttime.sleep(delay)\n",
    "\t\n",
    "\tif data_dict:\n",
    "\t\tdf = pd.concat(data_dict, axis=1)\n",
    "\telse:\n",
    "\t\tdf = pd.DataFrame()\n",
    "\n",
    "\treturn df"
   ]
  },
  {
   "cell_type": "code",
   "execution_count": null,
   "id": "113bfa58",
   "metadata": {},
   "outputs": [],
   "source": [
    "def insert_ohlcav_cols(instancia):\n",
    "\t\"\"\"\n",
    "\tInserta las columnas de precio OHLCAV a cada DataFrame vacio dentro de la clase TickerData.\n",
    "\t\"\"\"\n",
    "\ttickers_added = ''\n",
    "\tfor ticker in instancia.tickers:\n",
    "\t\tdf = getattr(instancia, ticker)\n",
    "\t\ttry:\n",
    "\t\t\tdf['Open'] = instancia.prices.loc[:, (ticker, tipo_precio[4])].squeeze()\n",
    "\t\t\tdf['High'] = instancia.prices.loc[:, (ticker, tipo_precio[2])].squeeze()\n",
    "\t\t\tdf['Low'] = instancia.prices.loc[:, (ticker, tipo_precio[3])].squeeze()\n",
    "\t\t\tdf['Close'] = instancia.prices.loc[:, (ticker, tipo_precio[1])].squeeze()\n",
    "\t\t\tdf['Adj Close'] = instancia.prices.loc[:, (ticker, tipo_precio[0])].squeeze()\n",
    "\t\t\tdf['Volume'] = instancia.prices.loc[:, (ticker, tipo_precio[5])].squeeze()\n",
    "\t\t\tdf.fillna(0, inplace=True)\n",
    "\t\t\tdf[df < 0] = 0\n",
    "\t\t\ttickers_added += ticker + ', '\n",
    "\t\texcept KeyError as e:\n",
    "\t\t\tprint(f'Error al agregar precios para {ticker}: {e}')\n",
    "\n",
    "\tprint(f'Se insertaron las columnas OHLCAV en los DF {tickers_added.rstrip(\", \")}.')\n"
   ]
  },
  {
   "cell_type": "code",
   "execution_count": null,
   "id": "ea65915d",
   "metadata": {},
   "outputs": [],
   "source": [
    "def calc_prices_df(self, column_price):\n",
    "\t\"\"\" Crea un nuevo DF solo con un precio específico de todos los activos \"\"\"\n",
    "\n",
    "\tprices_dict = {}\n",
    "\ttickers_added = []\n",
    "\n",
    "\tfor ticker in self.tickers:\n",
    "\t\t# Trabajamos sobre una copia\n",
    "\t\tdf = getattr(self, ticker).copy(deep=True)\n",
    "\t\tif column_price not in df.columns:\n",
    "\t\t\traise KeyError(f'La columna {column_price} no existe en el DF {ticker}')\n",
    "\t\t\t\t\n",
    "\t\tprice_values = df[column_price]\n",
    "\t\t\n",
    "\t\tprices_dict[ticker] = price_values\n",
    "\t\ttickers_added.append(ticker)\n",
    "\t\n",
    "\tprices_df = pd.DataFrame(prices_dict)\n",
    "\tprint(f'El DF de {column_price}, fue creado con los activos {\", \".join(tickers_added)}.')\n",
    "\treturn prices_df\n",
    "\n",
    "\n",
    "def calc_returns_df(self, method, column_price):\n",
    "\t\"\"\" Crea un nuevo DF con los returns de todos los activos \"\"\"\n",
    "\tvalid_methods = ['log', 'simple']\n",
    "\tif method not in valid_methods:\n",
    "\t\traise ValueError(f'El método no es válido. Usar uno de: {\", \".join(valid_methods)}')\n",
    "\n",
    "\treturns_dict = {}\n",
    "\ttickers_added = []\n",
    "\n",
    "\tfor ticker in self.tickers:\n",
    "\t\t# Trabajamos sobre una copia\n",
    "\t\tdf = getattr(self, ticker).copy(deep=True)\n",
    "\t\tif column_price not in df.columns:\n",
    "\t\t\traise KeyError(f'La columna {column_price} no existe en el DF {ticker}')\n",
    "\t\t\n",
    "\t\tif method == 'log':\n",
    "\t\t\treturn_values = np.log(df[column_price]).diff().fillna(0)\n",
    "\t\telse:\n",
    "\t\t\treturn_values = df[column_price].pct_change().fillna(0)\n",
    "\t\t\n",
    "\t\treturns_dict[ticker] = return_values\n",
    "\t\ttickers_added.append(ticker)\n",
    "\t\n",
    "\treturns_df = pd.DataFrame(returns_dict)\n",
    "\tprint(f'El DF de {method.capitalize()} Returns en función de {column_price}, fue creado con los activos {\", \".join(tickers_added)}.')\n",
    "\treturn returns_df\n",
    "\n",
    "\n",
    "def calc_returns_volat_df(self, method, column_price, window=40):\n",
    "\t\"\"\" Creamos un nuevo DF con returns y volatilidad de todos los activos \"\"\"\n",
    "\tvalid_methods = ['log', 'simple']\n",
    "\tif method not in valid_methods:\n",
    "\t\traise ValueError(f'El método no es válido. Usar uno de: {\", \".join(valid_methods)}')\n",
    "\t\n",
    "\treturns_volat_dict = {}\n",
    "\ttickers_added = []\n",
    "\n",
    "\tfor ticker in self.tickers:\n",
    "\t\t# Trabajamos sobre una copia\n",
    "\t\tdf = getattr(self, ticker).copy(deep=True)\n",
    "\t\tif column_price not in df.columns:\n",
    "\t\t\traise KeyError(f'La columna {column_price} no existe en el DF {ticker}')\n",
    "\n",
    "\t\tif method == 'log':\n",
    "\t\t\treturn_values = np.log(df[column_price]).diff().fillna(0)\n",
    "\t\telse:\n",
    "\t\t\treturn_values = df[column_price].pct_change().fillna(0)\n",
    "\t\t\n",
    "\t\tvolat_values = (df['returns'].rolling(window=window).std().fillna(0)) * np.sqrt(MARKET_DAYS_YEAR)\n",
    "\n",
    "\t\treturns_volat_dict[ticker + '_returns'] = return_values\n",
    "\t\treturns_volat_dict[ticker + '_volat_' + str(window)] = volat_values\n",
    "\t\ttickers_added.append(ticker)\n",
    "\n",
    "\treturns_volat_df = pd.DataFrame(returns_volat_dict)\n",
    "\tprint(f'Se creo el DF de {method.capitalize()} Returns en función de {column_price} y Volatilidad Anual con ventana de {window} ruedas.\\nContiene los activos {\", \".join(tickers_added)}.')\n",
    "\treturn returns_volat_df\n"
   ]
  },
  {
   "cell_type": "code",
   "execution_count": null,
   "id": "02cd585a",
   "metadata": {},
   "outputs": [],
   "source": [
    "def calculate_returns(df, method='log', column_price='Adj Close'):\n",
    "\t\"\"\" \n",
    "\tCalcula los returns en funcion del metodo y precio. \n",
    "\tParámetros:\n",
    "\t- df: DataFrame original.\n",
    "\t\"\"\"\n",
    "\tvalid_methods = ['log', 'simple']\n",
    "\tif method not in valid_methods:\n",
    "\t\traise ValueError(f'El método no es válido. Usar uno de: {\", \".join(valid_methods)}')\n",
    "\n",
    "\tif column_price not in df.columns:\n",
    "\t\traise KeyError(f'La columna {column_price} no existe en el DF {ticker}')\n",
    "\n",
    "\tif method == 'log':\n",
    "\t\tdf['returns'] = np.log(df[column_price]).diff().fillna(0)\n",
    "\telse:\n",
    "\t\tdf['returns'] = df[column_price].pct_change().fillna(0)\n",
    "\n",
    "\tmsg = f'{method.capitalize()} Returns sobre {column_price} en \"returns\"'\n",
    "\n",
    "\treturn df, msg\n",
    "\n",
    "\n",
    "def calculate_volat(df, method='log', column_price='Adj Close', window=40):\n",
    "\t\"\"\" \n",
    "\tCalcula la volatilidad en funcion del metodo y precio. \n",
    "\tParámetros:\n",
    "\t- df: DataFrame original.\n",
    "\t\"\"\"\n",
    "\tvalid_methods = ['log', 'simple']\n",
    "\tif method not in valid_methods:\n",
    "\t\traise ValueError(f'El método no es válido. Usar uno de: {\", \".join(valid_methods)}')\n",
    "\n",
    "\tif column_price not in df.columns:\n",
    "\t\traise KeyError(f'La columna {column_price} no existe en el DF {ticker}')\n",
    "\t\n",
    "\tif method == 'log':\n",
    "\t\treturns = np.log(df[column_price]).diff().fillna(0)\n",
    "\telse:\n",
    "\t\treturns = df[column_price].pct_change().fillna(0)\n",
    "\t\n",
    "\tdf[f'volat_{window}'] = (returns.rolling(window=window).std().fillna(0)) * np.sqrt(MARKET_DAYS_YEAR)\n",
    "\n",
    "\tmsg = f'Volatilidad Anual con ventana de {window} ruedas en función de {method.capitalize()} Returns sobre {column_price} en \"{\"volat_\" + str(window)}\"'\n",
    "\n",
    "\treturn df, msg\n"
   ]
  },
  {
   "cell_type": "markdown",
   "id": "437d245b",
   "metadata": {},
   "source": [
    "### 1.3 Classes"
   ]
  },
  {
   "cell_type": "markdown",
   "id": "9e79234a",
   "metadata": {},
   "source": [
    "#### class TickerData()"
   ]
  },
  {
   "cell_type": "markdown",
   "id": "ecefcdc5",
   "metadata": {},
   "source": [
    "Necesitamos que este notebook sea escalable, por lo que vamos a crear una ***Class*** para poder crear tantos DF como Tickers ingresemos."
   ]
  },
  {
   "cell_type": "markdown",
   "id": "7e8cbecb",
   "metadata": {},
   "source": [
    "Creamos una Class que al instanciarla reliza lo siguiente:\n",
    "*\tCrea un DF sin datos por cada activo especificado en la lista `tickers`. Se accede a cada uno de ellos por medio de `class_instance.ticker`.\n",
    "\n",
    "*\tTrata los missing values y los valores negativos.\n",
    "\n",
    "*\t`class_instance.list_tickers()`: Muestra los tickers y DF disponibles.\n",
    "\n",
    "*\t`class_instance.load_ohlcav()`: Inserta las columnas de precio OHLCAV a cada DF vacio dentro de la Class.\n",
    "\n",
    "*\t`class_instance.create_returns_df()`: Crea un nuevo DF solo con los returns de todos los activos.\n",
    "\n",
    "*\t`class_instance.create_returns_volat_df(window=40)`: Crea un nuevo DF solo con los returns y volatilidad de todos los activos.\n",
    "\t\n",
    "*\t`class_instance.add_columns(function, **kwargs)`: Agrega columnas al DF de cada activo llamando a una Function externa. Esto nos posibilita utilizar Functions fuera de la Class para agregar comportamientos a la Class y que se apliquen a todos los DF (returns, medias, indicadores, etc).\n",
    "\n",
    "*\t`class_instance.backup_dataframes(self, suffix='_v1')`: Crea backups de los DF de la clase con un sufijo: \"data.BBAR_v1\".\n",
    "\n",
    "*\t`class_instance.backup_dataframes_to_globals(self, suffix='_v1')`: Crea backups de los DF de la clase como variables GLOBALES, con un sufijo: \"BBAR_v1\"."
   ]
  },
  {
   "cell_type": "code",
   "execution_count": null,
   "id": "e430f2d0",
   "metadata": {},
   "outputs": [],
   "source": [
    "class TickerData:\n",
    "\tdef __init__(self, tickers, prices, tipo_precio=None):\n",
    "\t\tself.tickers = tickers\n",
    "\t\tself.prices = prices\n",
    "\n",
    "\t\ttickers_added = ''\n",
    "\t\tfor ticker in tickers:\n",
    "\t\t\tdf = pd.DataFrame({}, index=prices.index)\t\t\t\n",
    "\t\t\tdf.fillna(0, inplace=True)\n",
    "\t\t\tdf[df < 0] = 0\n",
    "\t\t\tsetattr(self, ticker, df)\t# asignamos el DF como atributo de la Class\n",
    "\t\t\ttickers_added += ticker + ', '\n",
    "\t\t\n",
    "\t\tprint(f'Se agregaron a la Class los DataFrame de {tickers_added.rstrip(\", \")}.')\n",
    "\n",
    "\n",
    "\tdef list_tickers(self):\n",
    "\t\t\"\"\" Vemos los DF creados, correspondientes a cada ticker \"\"\"\n",
    "\t\treturn self.tickers\n",
    "\n",
    "\n",
    "\tdef load_ohlcav(self):\n",
    "\t\t\"\"\" La Function externa inserta columnas de precio OHLCAV en cada DF VACIO de la clase. \"\"\"\n",
    "\t\tinsert_ohlcav_cols(self)\t\n",
    "\n",
    "\n",
    "\tdef add_columns(self, function, **kwargs):\n",
    "\t\t\"\"\"\n",
    "\t\tAgregamos columnas a todos los DF de la Class llamando a una Function externa.\n",
    "\n",
    "\t\tParámetros:\n",
    "\t\t- function: la function externa que recibe un DF y devuelve un DF modificado con nuevas cols o calculos.\n",
    "\t\t- kwargs: parámetros adicionales que pueda necesitar la function externa.\n",
    "\n",
    "\t\tEjemplo de uso: data.add_columns(calculate_ema, EMA1=10, EMA2=20)\n",
    "\t\t\"\"\"\n",
    "\t\tfor ticker in self.tickers:\n",
    "\t\t\tdf = getattr(self, ticker)\n",
    "\t\t\tdf, msg = function(df, **kwargs)\n",
    "\t\t\tsetattr(self, ticker, df)\n",
    "\t\t\n",
    "\t\tprint(f'Agregados a los DF de la Class usando \"{function.__name__}\": {msg}.')\n",
    "\t\t\n",
    "\n",
    "\tdef create_prices_df(self, column_price='Close'):\n",
    "\t\tself.prices_df = calc_prices_df(self, column_price=column_price)\n",
    "\t\treturn self.prices_df\n",
    "\t\t\n",
    "\n",
    "\tdef create_returns_df(self, method='log', column_price='Adj Close'):\n",
    "\t\tself.returns_df = calc_returns_df(self, method=method, column_price=column_price)\n",
    "\t\treturn self.returns_df\n",
    "\t\n",
    "\n",
    "\tdef create_returns_volat_df(self, method='log', column_price='Adj Close', window=40): \n",
    "\t\tself.returns_volat_df = calc_returns_volat_df(self, method=method, column_price=column_price, window=window)\n",
    "\t\treturn self.returns_volat_df\n",
    "\t\n",
    "\n",
    "\tdef backup_dataframes(self, suffix='_v1'):\n",
    "\t\tdf_added = []\n",
    "\t\tfor ticker in self.tickers:\n",
    "\t\t\tdf = getattr(self, ticker)\n",
    "\t\t\tdf_copy = df.copy(deep=True)\n",
    "\t\t\tsetattr(self, f'{ticker}{suffix}', df_copy)\n",
    "\t\t\tdf_added.append(f'{ticker}{suffix}')\n",
    "\t\tprint(f'Se crearon copias INTERNAS de la INSTANCIA de los DF:\\n{\", \".join(df_added)}.\\n')\n",
    "\n",
    "\n",
    "\tdef backup_dataframes_to_globals(self, suffix='_v1'):\n",
    "\t\tdf_added = []\n",
    "\t\tfor ticker in self.tickers:\n",
    "\t\t\tdf = getattr(self, ticker)\n",
    "\t\t\tdf_copy = df.copy(deep=True)\n",
    "\t\t\tglobals()[f'{ticker}{suffix}'] = df_copy\n",
    "\t\t\t# setattr(self, f'{ticker}{suffix}', df_copy)\n",
    "\t\t\tdf_added.append(f'{ticker}{suffix}')\n",
    "\t\tprint(f'Se crearon copias GLOBALES de los DF:\\n{\", \".join(df_added)}.\\n')\n"
   ]
  },
  {
   "cell_type": "markdown",
   "id": "872c141e",
   "metadata": {},
   "source": [
    "# 2. Data Loading"
   ]
  },
  {
   "cell_type": "code",
   "execution_count": null,
   "id": "0469b800",
   "metadata": {},
   "outputs": [],
   "source": [
    "tickers = TICKERS\n",
    "tickers_yf = TICKERS_YF\n",
    "\n",
    "start_date = datetime.strptime(START_DATE, '%Y-%m-%d')\n",
    "end_date = datetime.now() if not END_DATE else datetime.strptime(END_DATE, \"%Y-%m-%d\")\n",
    "\n",
    "raw_data = descargar_datos_yf(tickers_yf, start_date, end_date)\n",
    "prices = raw_data.copy()\n",
    "\n",
    "prices.index = prices.index.strftime('%Y-%m-%d')\n",
    "prices.index = pd.to_datetime(prices.index)\n",
    "\n",
    "print('Index type:', prices.index.dtype)\n",
    "prices.head()"
   ]
  },
  {
   "cell_type": "markdown",
   "id": "d41dd7f4",
   "metadata": {},
   "source": [
    "# 3. Data Cleaning"
   ]
  },
  {
   "cell_type": "markdown",
   "id": "43a88ddd",
   "metadata": {},
   "source": [
    "En esta etapa realizaremos lo siguiente:\n",
    "\n",
    "1.\tModificamos los nombres de los Tickers, para mayor comodidad.\n",
    "\n",
    "2.\tCreamos DF limpios de todos los activos con precios OHLCAV.\n",
    "\n",
    "3.\tHacemos un Checkpoint y guardamos lo realizado hasta el momento."
   ]
  },
  {
   "cell_type": "code",
   "execution_count": null,
   "id": "b6e86250",
   "metadata": {},
   "outputs": [],
   "source": [
    "#prices = raw_data.copy()"
   ]
  },
  {
   "cell_type": "markdown",
   "id": "8c56c821",
   "metadata": {},
   "source": [
    "Cambiamos los nombres de los activos."
   ]
  },
  {
   "cell_type": "code",
   "execution_count": null,
   "id": "e40e72be",
   "metadata": {},
   "outputs": [],
   "source": [
    "for ticker_y, name in zip(tickers_yf, tickers):\n",
    "\tprices.rename(columns={ticker_y: name}, inplace=True)\n",
    "\n",
    "df = prices\n",
    "print(\"\\nNiveles del índice en columnas:\")\n",
    "for i, name in enumerate(df.columns.names):\n",
    "\tprint(f\"Nivel {i} ({name}): {df.columns.unique(level=i).tolist()}\")\n",
    "\n",
    "prices.head()"
   ]
  },
  {
   "cell_type": "code",
   "execution_count": null,
   "id": "407ff006",
   "metadata": {},
   "outputs": [],
   "source": [
    "tipo_precio = df.columns.unique(level=1).tolist()\n",
    "tipo_precio"
   ]
  },
  {
   "cell_type": "markdown",
   "id": "93307bc1",
   "metadata": {},
   "source": [
    "Creamos DF limpios de todos los activos con precios OHLCAV:"
   ]
  },
  {
   "cell_type": "code",
   "execution_count": null,
   "id": "0fb71e85",
   "metadata": {},
   "outputs": [],
   "source": [
    "data = TickerData(tickers, prices, tipo_precio)\n",
    "data.load_ohlcav()"
   ]
  },
  {
   "cell_type": "markdown",
   "id": "389a8b85",
   "metadata": {},
   "source": [
    "# 4. Data Transformation"
   ]
  },
  {
   "cell_type": "markdown",
   "id": "081e785f",
   "metadata": {},
   "source": [
    "### Dataframe de cada activo"
   ]
  },
  {
   "cell_type": "markdown",
   "id": "9da1fc2c",
   "metadata": {},
   "source": [
    "Calculamos y agregamos a cada DF de los activos, lo siguiente:\n",
    "\n",
    "*\tRetornos logaritmicos\n",
    "*\tVolatilidad de las ultimas 40 ruedas, anualizada."
   ]
  },
  {
   "cell_type": "code",
   "execution_count": null,
   "id": "66b6f5f9",
   "metadata": {},
   "outputs": [],
   "source": [
    "# Agregamos los retornos logaritmicos\n",
    "data.add_columns(calculate_returns, method='log', column_price='Adj Close')\n",
    "\n",
    "# Agregamos la volatilidad anual\n",
    "data.add_columns(calculate_volat, method='log', column_price='Adj Close', window=40)\n"
   ]
  },
  {
   "cell_type": "code",
   "execution_count": null,
   "id": "8209ce0a",
   "metadata": {},
   "outputs": [],
   "source": [
    "data.GGAL.head()"
   ]
  },
  {
   "cell_type": "markdown",
   "id": "ef697903",
   "metadata": {},
   "source": [
    "Creamos un Checkpoint con lo realizado hasta ahora, y seguimos trabajando sobre los DF originales.\n",
    "\n",
    "Se identifican con el sufijo *\"v1\"*:"
   ]
  },
  {
   "cell_type": "code",
   "execution_count": null,
   "id": "94d0f5fc",
   "metadata": {},
   "outputs": [],
   "source": [
    "# Checkpoint\n",
    "data.backup_dataframes(suffix='_v1')\n",
    "data.backup_dataframes_to_globals(suffix='_v1')"
   ]
  },
  {
   "cell_type": "markdown",
   "id": "842fbcee",
   "metadata": {},
   "source": [
    "Seguimos trabajando sobre los DF originales, manteniendo una copia de los mismos, en caso de necesitar revertir cambios realizados."
   ]
  },
  {
   "cell_type": "markdown",
   "id": "1c78ad58",
   "metadata": {},
   "source": [
    "### Dataframe de Precios"
   ]
  },
  {
   "cell_type": "markdown",
   "id": "ff7a2af4",
   "metadata": {},
   "source": [
    "Creamos un DF con los Precios de todos los activos (Open, Low, High, Close o Adj Close)."
   ]
  },
  {
   "cell_type": "code",
   "execution_count": null,
   "id": "6a9d961c",
   "metadata": {},
   "outputs": [],
   "source": [
    "prices = data.create_prices_df(column_price='Adj Close')\n",
    "prices.head()"
   ]
  },
  {
   "cell_type": "markdown",
   "id": "04fc6b4a",
   "metadata": {},
   "source": [
    "Creamos otro Checkpoint con lo realizado hasta ahora, y seguimos trabajando sobre los DF originales.\n",
    "\n",
    "Se identifica con el sufijo *\"v1\"*:"
   ]
  },
  {
   "cell_type": "code",
   "execution_count": null,
   "id": "253d9998",
   "metadata": {},
   "outputs": [],
   "source": [
    "# Checkpoint\n",
    "df = prices\n",
    "df_name = 'prices'\n",
    "\n",
    "df = globals()[df_name]\n",
    "globals()[f'{df_name}_v1'] = df.copy(deep=True)"
   ]
  },
  {
   "cell_type": "markdown",
   "id": "50df13d2",
   "metadata": {},
   "source": [
    "### Dataframe de Retornos"
   ]
  },
  {
   "cell_type": "markdown",
   "id": "2090a20e",
   "metadata": {},
   "source": [
    "Creamos un DF con los Retornos de todos los activos."
   ]
  },
  {
   "cell_type": "code",
   "execution_count": null,
   "id": "0a52fa54",
   "metadata": {},
   "outputs": [],
   "source": [
    "returns = data.create_returns_df(method='log', column_price='Adj Close')\n",
    "returns.head()"
   ]
  },
  {
   "cell_type": "markdown",
   "id": "ba229b5f",
   "metadata": {},
   "source": [
    "Creamos otro Checkpoint con lo realizado hasta ahora, y seguimos trabajando sobre los DF originales.\n",
    "\n",
    "Se identifica con el sufijo *\"v1\"*:"
   ]
  },
  {
   "cell_type": "code",
   "execution_count": null,
   "id": "8664935f",
   "metadata": {},
   "outputs": [],
   "source": [
    "# Checkpoint\n",
    "df = returns\n",
    "df_name = 'returns'\n",
    "\n",
    "df = globals()[df_name]\n",
    "globals()[f'{df_name}_v1'] = df.copy(deep=True)"
   ]
  },
  {
   "cell_type": "markdown",
   "id": "ac82d2b5",
   "metadata": {},
   "source": [
    "### Dataframe de Retornos y Volatilidad"
   ]
  },
  {
   "cell_type": "markdown",
   "id": "af07c5a3",
   "metadata": {},
   "source": [
    "Creamos un DF con los Retornos y Volatilidad de todos los activos."
   ]
  },
  {
   "cell_type": "code",
   "execution_count": null,
   "id": "2eaf1b1a",
   "metadata": {},
   "outputs": [],
   "source": [
    "returns_volat = data.create_returns_volat_df(method='log', column_price='Adj Close', window=40)\n",
    "returns_volat.head()"
   ]
  },
  {
   "cell_type": "markdown",
   "id": "dd35b1be",
   "metadata": {},
   "source": [
    "Creamos otro Checkpoint con lo realizado hasta ahora, y seguimos trabajando sobre los DF originales.\n",
    "\n",
    "Se identifica con el sufijo *\"v1\"*:"
   ]
  },
  {
   "cell_type": "code",
   "execution_count": null,
   "id": "475d5dba",
   "metadata": {},
   "outputs": [],
   "source": [
    "# Checkpoint\n",
    "df = returns_volat\n",
    "df_name = 'returns_volat'\n",
    "\n",
    "df = globals()[df_name]\n",
    "globals()[f'{df_name}_v1'] = df.copy(deep=True)"
   ]
  },
  {
   "cell_type": "markdown",
   "id": "fa29e424",
   "metadata": {},
   "source": [
    "### Cálculos estadísticos"
   ]
  },
  {
   "cell_type": "markdown",
   "id": "cda86f5e",
   "metadata": {},
   "source": [
    "Creamos una matriz de correlación de los retornos."
   ]
  },
  {
   "cell_type": "code",
   "execution_count": null,
   "metadata": {},
   "outputs": [],
   "source": [
    "correlations = returns.corr().round(2)\n",
    "correlations"
   ]
  },
  {
   "cell_type": "markdown",
   "id": "732de2c4",
   "metadata": {},
   "source": [
    "Calculamos algunos estadísticos."
   ]
  },
  {
   "cell_type": "code",
   "execution_count": null,
   "id": "31095849",
   "metadata": {},
   "outputs": [],
   "source": [
    "datos = returns\n",
    "\n",
    "mu = np.mean(datos, axis=0)\n",
    "sigma = np.std(datos, ddof=1, axis=0)"
   ]
  },
  {
   "cell_type": "code",
   "execution_count": null,
   "id": "ef8d34de",
   "metadata": {},
   "outputs": [],
   "source": [
    "mu"
   ]
  },
  {
   "cell_type": "code",
   "execution_count": null,
   "id": "460da16c",
   "metadata": {},
   "outputs": [],
   "source": [
    "sigma"
   ]
  },
  {
   "cell_type": "code",
   "execution_count": null,
   "id": "cbea9000",
   "metadata": {},
   "outputs": [],
   "source": [
    "returns_prom = returns.mean() * MARKET_DAYS_YEAR\n",
    "returns_prom"
   ]
  },
  {
   "cell_type": "markdown",
   "id": "bd7aa0ba",
   "metadata": {},
   "source": [
    "# 5. Visualization"
   ]
  },
  {
   "cell_type": "code",
   "execution_count": null,
   "id": "c4b27983",
   "metadata": {},
   "outputs": [],
   "source": [
    "prices_norm = prices.normalize()\n",
    "tickers"
   ]
  },
  {
   "cell_type": "markdown",
   "id": "fb9dc956",
   "metadata": {},
   "source": [
    "## 5.1 Plot normalizado"
   ]
  },
  {
   "cell_type": "code",
   "execution_count": null,
   "id": "5008e824",
   "metadata": {},
   "outputs": [],
   "source": [
    "datos = prices_norm\n",
    "fecha_inicio = datos.index[0]\n",
    "fecha_fin = datos.index[-1]\n",
    "\n",
    "periodo = f\"{fecha_inicio.strftime('%d/%m/%Y')} - {fecha_fin.strftime('%d/%m/%Y')}\"\n",
    "graf_titulo = f'Precios Normalizados de principales activos bancarios | Período {periodo}'\n",
    "eje_x_titulo = f'Fechas respecto de cotizaciones diarias'\n",
    "eje_y_titulo = f'Variación base 100 respecto al inicio de la serie (normalizado)'\n",
    "\n",
    "eje_x = datos.index\n",
    "dias_total = (fecha_fin - fecha_inicio).days\n",
    "dias_extra = int(dias_total * 0.01)  # 1% del rango\n",
    "x_min_extendido = fecha_inicio - pd.Timedelta(days=dias_extra)\n",
    "x_max_extendido = fecha_fin + pd.Timedelta(days=dias_extra)\n",
    "\n",
    "tickvals = pd.date_range(start=fecha_inicio, end=fecha_fin, freq='MS').to_list()\n",
    "if fecha_inicio not in tickvals: tickvals.insert(0, fecha_inicio)\n",
    "if fecha_fin not in tickvals: tickvals.append(fecha_fin)\n",
    "\n",
    "# Creamos linea vertical de inicio y fin    \n",
    "linea_vertical = lambda fecha, color: dict(\n",
    "\ttype=\"line\", xref=\"x\", yref=\"paper\", x0=fecha, x1=fecha, y0=0, y1=1, line=dict(color=color, width=1.0, dash=\"dash\"))\n",
    "\n",
    "line_props = [\n",
    "\t{'y': datos[tickers[0]], 'color': get_color(7), 'width': 2, 'text_leg': f'{tickers[0]}'},\n",
    "\t{\"y\": datos[tickers[1]], 'color': get_color(0), 'width': 1.5, 'text_leg': f'{tickers[1]}'},\n",
    "\t{\"y\": datos[tickers[2]], 'color': get_color(1), 'width': 1.5, \"text_leg\": f'{tickers[2]}'},\n",
    "\t{\"y\": datos[tickers[3]], 'color': get_color(2), 'width': 1.5, \"text_leg\": f'{tickers[3]}'},\n",
    "\t{\"y\": datos[tickers[4]], 'color': get_color(3), 'width': 1.5, \"text_leg\": f'{tickers[4]}'},\n",
    "\t{\"y\": datos[tickers[5]], 'color': get_color(4), 'width': 1.5, \"text_leg\": f'{tickers[5]}'},\n",
    "]\n",
    "\n",
    "fig_activos_norm = go.Figure()\n",
    "\n",
    "for i, prop in enumerate(line_props):\n",
    "\tfig_activos_norm.add_trace(go.Scatter(\n",
    "\t\tx=eje_x, y=prop['y'],\n",
    "\t\tmode='lines',\n",
    "\t\tline=dict(width=prop['width'], color=prop['color']), opacity=0.8,\n",
    "\t\tname=prop['text_leg'], showlegend=True,\n",
    "\t\tyaxis='y2' if i == 0 else 'y',\n",
    "\t\tfillcolor='rgba(0, 0, 255, 0.2)' if i == 0 else None, \n",
    "\t\tfill='tozeroy' if i == 0 else None,))\n",
    "\t\n",
    "\tif i == 0:\n",
    "\t\tfig_activos_norm.add_shape(\n",
    "\t\t\ttype=\"line\", x0=min(eje_x), x1=max(eje_x), \n",
    "\t\t\ty0=prop['y'].iloc[-1], y1=prop['y'].iloc[-1],\n",
    "\t\t\tline=dict(color=get_color(4), width=1, dash=\"dot\"))\n",
    "\n",
    "fig_activos_norm.add_shape(\n",
    "\tlinea_vertical(fecha_inicio, get_color(2)))\n",
    "fig_activos_norm.add_shape(\n",
    "\tlinea_vertical(fecha_fin, get_color(2)))\n",
    "\n",
    "fig_activos_norm.update_layout(\n",
    "\twidth=900, height=600, margin=dict(l=80, r=70, t=80, b=100),\n",
    "\ttitle=dict(text=graf_titulo, x=0.5, y=0.95),\n",
    "\txaxis=dict(\n",
    "\t\ttitle=dict(text=eje_x_titulo, standoff=20), type='date', tickvals=tickvals, tickformat='%Y-%m-%d', tickangle=45, range=[x_min_extendido, x_max_extendido],# dtick='M1',\n",
    "\t),\n",
    "\tyaxis=dict(\n",
    "\t\ttitle=dict(text=eje_y_titulo, standoff=20),\ttype='linear', side='left'),\n",
    "\tyaxis2=dict(\n",
    "\t\toverlaying='y', side='right', showgrid=False, showticklabels=True, matches='y'),\n",
    "\tlegend=dict(bordercolor=\"black\", borderwidth=1, x=0.02, y=0.99, xanchor=\"left\", yanchor=\"top\"),\n",
    ")\n",
    "\n",
    "set_bloomberg_dark(fig_activos_norm)\n",
    "fig_activos_norm.show()\n"
   ]
  },
  {
   "cell_type": "markdown",
   "id": "81495a6b",
   "metadata": {},
   "source": [
    "## 5.2 Plot Normalized Prices, Returns & Volatility"
   ]
  },
  {
   "cell_type": "code",
   "execution_count": null,
   "id": "ed8753c0",
   "metadata": {},
   "outputs": [],
   "source": [
    "def add_vertical_axis(fig, assets_graph, cols_graph, title_primary=None, color_primary=None,\n",
    "                              title_secondary=None, color_secondary=None):\n",
    "    \"\"\"\n",
    "    Agrega modificaciones a ejes primarios y secundarios en subplots de Plotly, en un solo update_layout.\n",
    "\n",
    "    Parámetros:\n",
    "    -----------\n",
    "    fig : go.Figure\n",
    "        Figura de Plotly ya creada con make_subplots.\n",
    "    assets_graph : int\n",
    "        Número de subplots (activos gráficos).\n",
    "    cols_graph : int\n",
    "        Número de columnas del layout de subplots.\n",
    "    title_primary : str, opcional\n",
    "        Título del eje primario (solo en primera columna).\n",
    "    color_primary : str, opcional\n",
    "        Color de los ticks del eje primario.\n",
    "    title_secondary : str, opcional\n",
    "        Título del eje secundario (solo en segunda columna).\n",
    "    color_secondary : str, opcional\n",
    "        Color de los ticks del eje secundario.\n",
    "    \"\"\"\n",
    "    layout_updates = {}\n",
    "\n",
    "    for i in range(assets_graph):\n",
    "        if i == 0:\n",
    "            eje_primario = 'yaxis'\n",
    "            eje_secundario = 'yaxis2'\n",
    "            overlaying = 'y'\n",
    "        else:\n",
    "            eje_primario = f'yaxis{1 + i*2}'\n",
    "            eje_secundario = f'yaxis{2 + i*2}'\n",
    "            overlaying = f'y{1 + i*2}'\n",
    "\n",
    "        col_subplot = (i % cols_graph) + 1\n",
    "        \n",
    "        # Eje primario\n",
    "        layout_updates[eje_primario] = dict(\n",
    "            showgrid=True, zeroline=False, tickfont=dict(color=color_primary),)\n",
    "        if title_primary and col_subplot == 1:\n",
    "            layout_updates[eje_primario]['title'] = dict(text=title_primary, standoff=20)\n",
    "\n",
    "        # Eje secundario\n",
    "        layout_updates[eje_secundario] = dict(\n",
    "            overlaying=overlaying, side='right', showgrid=False, zeroline=False, tickformat=\".0%\", tickfont=dict(color=color_secondary),)\n",
    "        if col_subplot == 2:\n",
    "            layout_updates[eje_secundario]['title'] = dict(text=title_secondary, standoff=20)\n",
    "\n",
    "    fig.update_layout(**layout_updates)"
   ]
  },
  {
   "cell_type": "code",
   "execution_count": null,
   "id": "add1c45a",
   "metadata": {},
   "outputs": [],
   "source": [
    "datos = prices_norm\n",
    "# fecha_inicio = datos.index[0]\n",
    "# fecha_fin = datos.index[-1]\n",
    "fecha_inicio, fecha_fin = datos.index[[0, -1]]\n",
    "\n",
    "periodo = f\"{fecha_inicio.strftime('%d/%m/%Y')} - {fecha_fin.strftime('%d/%m/%Y')}\"\n",
    "graf_titulo = f'Precios Norm, Rendimientos y Volatilidades de principales activos bancarios | Período {periodo}'\n",
    "eje_x_titulo = f'Fechas respecto de cotizaciones diarias'\n",
    "eje_y_titulo_1 = f'Variacion base 100 respecto al inicio de la serie'\n",
    "eje_y_titulo_2 = f'Retorno y Volatilidad'\n",
    "\n",
    "eje_x = datos.index\n",
    "dias_total = (fecha_fin - fecha_inicio).days\n",
    "dias_extra = int(dias_total * 0.01)\n",
    "x_min_extendido = fecha_inicio - pd.Timedelta(days=dias_extra)\n",
    "x_max_extendido = fecha_fin + pd.Timedelta(days=dias_extra)\n",
    "\n",
    "tickvals = pd.date_range(start=fecha_inicio, end=fecha_fin, freq='2MS').to_list()\n",
    "if fecha_inicio not in tickvals: tickvals.insert(0, fecha_inicio)\n",
    "if fecha_fin not in tickvals: tickvals.append(fecha_fin)\n",
    "\n",
    "assets_graph = len(datos.columns)\n",
    "rows_graph = (assets_graph // 2) + (assets_graph % 2)\n",
    "cols_graph = 2\n",
    "\n",
    "\n",
    "fig_volat = make_subplots(\n",
    "\trows=rows_graph, cols=cols_graph,\n",
    "\tspecs=[[{\"secondary_y\": True}, {\"secondary_y\": True}],\n",
    "\t\t[{\"secondary_y\": True}, {\"secondary_y\": True}],\n",
    "\t\t[{\"secondary_y\": True}, {\"secondary_y\": True}]],\n",
    "\tshared_xaxes=False, shared_yaxes=True, vertical_spacing=0.09, horizontal_spacing=0.10,\n",
    "\tsubplot_titles=[f\"<b>{col}</b>\" for col in datos.columns]\n",
    ")\n",
    "\n",
    "for i, col in enumerate(datos.columns):\n",
    "\trows_subplot = (i // cols_graph) + 1\n",
    "\tcols_subplot = (i % cols_graph) + 1\n",
    "\n",
    "\tdata_price = datos[col].to_numpy()\n",
    "\tdata_returns = returns_volat.iloc[:, 2*i].to_numpy()\n",
    "\tdata_volat = returns_volat.iloc[:, 2*i+1].to_numpy()\n",
    "\n",
    "\tsubplot_idx = i + 1  # Subplots empiezan en 1\n",
    "\n",
    "\t# 1) Precio normalizado - eje principal\n",
    "\tfig_volat.add_trace(go.Scatter(\n",
    "\t\tx=eje_x, y=data_price, mode='lines', line=dict(color=get_color(7), width=2),\n",
    "\t\tfillcolor='rgba(0, 0, 255, 0.2)', fill='tozeroy',\t# Creamos la sombra\n",
    "\t\tname=f'Price Norm {col}', showlegend=False\n",
    "\t), row=rows_subplot, col=cols_subplot, secondary_y=False)\n",
    "\n",
    "\t# 2) Returns - eje secundario\n",
    "\tfig_volat.add_trace(go.Scatter(\n",
    "\t\tx=eje_x, y=data_returns, mode='lines', line=dict(color=get_color(1), width=1.0),\n",
    "\t\tname=f'Returns {col}', showlegend=False, yaxis=f'y{subplot_idx*2}'\n",
    "\t), row=rows_subplot, col=cols_subplot, secondary_y=True)\n",
    "\n",
    "\t# 3) Volatilidad - eje secundario\n",
    "\tfig_volat.add_trace(go.Scatter(\n",
    "\t\tx=eje_x, y=data_volat, mode='lines', line=dict(color=get_color(3), width=1.5),\n",
    "\t\tname=f'Volat_40 {col}', showlegend=False, yaxis=f'y{subplot_idx*2}'\n",
    "\t), row=rows_subplot, col=cols_subplot, secondary_y=True)\n",
    "\n",
    "\t# Agregamos linea de ultimo valor de Price\n",
    "\tfig_volat.add_shape(\n",
    "\t\ttype=\"line\", x0=min(eje_x), x1=max(eje_x), y0=data_price[-1], y1=data_price[-1],\n",
    "\t\tline=dict(color=get_color(4), width=1, dash=\"dot\"\n",
    "\t), row=rows_subplot, col=cols_subplot)\n",
    "\n",
    "\t# Ejes X\n",
    "\tfig_volat.update_xaxes(\n",
    "\t\ttype='date', tickvals=tickvals, tickformat='%Y-%m-%d', tickangle=45,\n",
    "\t\trange=[x_min_extendido, x_max_extendido], row=rows_subplot, col=cols_subplot)\n",
    "\t\n",
    "\t# Ejes Y primario\n",
    "\tfig_volat.update_yaxes(\n",
    "\t\tshowticklabels=True, row=rows_subplot, col=cols_subplot, side='left')\n",
    "\n",
    "\n",
    "# Anotaciones como leyendas\n",
    "max_y_value = max([max(trace['y']) for trace in fig_volat.data if isinstance(trace['y'], (list, np.ndarray))])\n",
    "x_pos = min(eje_x)\n",
    "y_max = max_y_value\n",
    "\n",
    "for i, col in enumerate(datos.columns):\n",
    "\trows_subplot = (i // cols_graph) + 1\n",
    "\tcols_subplot = (i % cols_graph) + 1\n",
    "\tsubplot_idx = i + 1  # Subplots empiezan en 1\n",
    "\tfig_volat.add_annotation(\n",
    "\t\txref=f'x{2*subplot_idx-1}', yref=f'y{2*subplot_idx-1}', x=x_pos, y=y_max*0.99,\n",
    "\t\txanchor=\"left\", yanchor=\"top\",\n",
    "\t\ttext=(\n",
    "\t\t\tf\"<b><span style='color:{get_color(7)};'>-- Price Norm</span><br>\"\n",
    "\t\t\tf\"<span style='color:{get_color(1)};'>-- Log Returns %</span><br>\"\n",
    "\t\t\tf\"<span style='color:{get_color(3)};'>-- Volat 40d %</span></b>\"),\n",
    "\t\talign='left', font=dict(size=12), showarrow=False, \n",
    "\t\tbordercolor=\"rgba(50,50,50,0.6)\", borderwidth=0.8, borderpad=3, opacity=0.92,\n",
    "\t\tbgcolor=\"rgba(200, 200, 200, 0.20)\", row=rows_subplot, col=cols_subplot)\n",
    "\n",
    "# Títulos de ejes X\n",
    "for col_id in range(1, cols_graph + 1):\n",
    "\tfig_volat.update_xaxes(title=dict(text=eje_x_titulo, standoff=20), row=rows_graph, col=col_id)\n",
    "\n",
    "fig_volat.update_layout(\n",
    "\twidth=1100, height=465*rows_graph, margin=dict(l=80, r=80, t=100, b=100), autosize=True, title=dict(text=graf_titulo, x=0.5, y=0.98))\n",
    "\n",
    "# Agregamos las etiquetas y titulos primarios y secundarios del Eje Y\n",
    "add_vertical_axis(\n",
    "    fig_volat, assets_graph=assets_graph, cols_graph=cols_graph, title_primary=eje_y_titulo_1, color_primary=None, title_secondary=eje_y_titulo_2, color_secondary=get_color(1))\n",
    "\n",
    "set_bloomberg_dark(fig_volat)\n",
    "fig_volat.show()\n"
   ]
  },
  {
   "cell_type": "markdown",
   "id": "e459b2e1",
   "metadata": {},
   "source": [
    "## 5.3 Histograma"
   ]
  },
  {
   "cell_type": "code",
   "execution_count": null,
   "id": "3856cb70",
   "metadata": {},
   "outputs": [],
   "source": [
    "datos = returns\n",
    "fecha_inicio = datos.index[0]\n",
    "fecha_fin = datos.index[-1]\n",
    "\n",
    "periodo = f\"{fecha_inicio.strftime('%d/%m/%Y')} - {fecha_fin.strftime('%d/%m/%Y')}\"\n",
    "graf_titulo = f'Distribución de Retornos por Activo | Período {periodo}'\n",
    "eje_x_titulo = f'Retornos %'\n",
    "eje_y_titulo_1 = f'Frecuencia Observada'\n",
    "\n",
    "all_data = datos.to_numpy().flatten()\n",
    "_, bin_edges = np.histogram(all_data, bins=50, density=True)\n",
    "bin_width = bin_edges[1] - bin_edges[0]  # Ancho de bin\n",
    "\n",
    "assets_graph = len(datos.columns)\n",
    "rows_graph = (assets_graph // 2) + (assets_graph % 2)  # 2 columnas por fila\n",
    "cols_graph = 2\n",
    "\n",
    "\n",
    "fig_hist = make_subplots(\n",
    "\trows=rows_graph, cols=cols_graph, shared_xaxes=True, shared_yaxes=True, vertical_spacing=0.09, horizontal_spacing=0.10, subplot_titles=[f\"<b>{col}</b>\" for col in datos.columns]\n",
    ")\n",
    "\n",
    "for i, col in enumerate(datos.columns):\n",
    "\trows_subplot = (i // cols_graph) + 1\n",
    "\tcols_subplot = (i % cols_graph) + 1\n",
    "\thist_values, _ = np.histogram(datos[col].to_numpy(), bins=bin_edges, density=True)\n",
    "\tdata_col = datos[col].to_numpy()\n",
    "\n",
    "\tfig_hist.add_trace(go.Bar(\n",
    "\t\tx=bin_edges[:-1], y=hist_values, width=bin_width, marker=dict(opacity=0.7, color=get_color(i)), name=col, showlegend=True), \n",
    "\t\trow=rows_subplot, col=cols_subplot)\n",
    "\n",
    "\t# KDE (Curva de Densidad)\n",
    "\tkde = gaussian_kde(data_col)\n",
    "\tx_kde = np.linspace(bin_edges.min(), bin_edges.max(), 200)  # Valores X\n",
    "\ty_kde = kde(x_kde)  # Evaluar KDE en esos valores\n",
    "\tfig_hist.add_trace(go.Scatter(\n",
    "\t\tx=x_kde, y=y_kde, mode='lines', line=dict(color=get_color(7), width=2), name=f\"KDE {col}\", showlegend=False), \n",
    "\t\trow=rows_subplot, col=cols_subplot)\n",
    "\t\n",
    "\t# Ejes X\n",
    "\tfig_hist.update_xaxes(\n",
    "\t\tshowticklabels=True, tickformat=\".0%\", dtick=0.05, row=rows_subplot, col=cols_subplot)\n",
    "\t\n",
    "\t# # Ejes Y primario\n",
    "\tfig_hist.update_yaxes(\n",
    "\t\tshowticklabels=True, side='left', row=rows_subplot, col=cols_subplot)\n",
    "\n",
    "\n",
    "# Títulos de ejes X\n",
    "for col_id in range(1, cols_graph + 1):\n",
    "\tfig_hist.update_xaxes(title=dict(text=eje_x_titulo, standoff=20), row=rows_graph, col=col_id)\n",
    "\n",
    "# Títulos de ejes Y\n",
    "for row_id in range(1, rows_graph + 1):\n",
    "\tfig_hist.update_yaxes(title=dict(text=eje_y_titulo_1, standoff=20), row=row_id, col=1)\n",
    "\n",
    "fig_hist.update_layout(\n",
    "\twidth=950, height=305*rows_graph, margin=dict(l=60, r=60, t=90, b=70),\n",
    "\ttitle=dict(text=graf_titulo, x=0.5, y=0.97),\n",
    "\tlegend=dict(bordercolor=\"black\", borderwidth=1, x=0.99, y=0.99, xanchor=\"right\", yanchor=\"top\"))\n",
    "\n",
    "set_bloomberg_dark(fig_hist)\n",
    "fig_hist.show()\n"
   ]
  },
  {
   "cell_type": "markdown",
   "id": "e23bb975",
   "metadata": {},
   "source": [
    "## 5.4 Scatter Matrix"
   ]
  },
  {
   "cell_type": "code",
   "execution_count": null,
   "id": "80f8baac",
   "metadata": {},
   "outputs": [],
   "source": [
    "datos = returns\n",
    "fecha_inicio, fecha_fin = datos.index[[0, -1]]\n",
    "periodo = f\"{fecha_inicio.strftime('%d/%m/%Y')} - {fecha_fin.strftime('%d/%m/%Y')}\"\n",
    "\n",
    "graf_titulo = f'Pairplot: Histograma de Retornos y gráficos de Dispersión | Período {periodo}'\n",
    "\n",
    "assets = datos.columns\n",
    "\n",
    "assets_graph = len(datos.columns)\n",
    "rows_graph = assets_graph\n",
    "cols_graph = assets_graph\n",
    "\n",
    "bins_hist = 20\n",
    "x_min, x_max = datos.min().min(), datos.max().max()\n",
    "y_max_hist = max(np.histogram(datos[asset], bins=bins_hist, density=True)[0].max() for asset in datos.columns)\n",
    "\n",
    "fig_pairplot = make_subplots(\n",
    "\trows=assets_graph, cols=assets_graph, shared_xaxes=True, shared_yaxes=False, horizontal_spacing=0.03, vertical_spacing=0.02)\n",
    "\n",
    "def actualizar_ejes(row, col, x_range, y_range, is_histogram=False):\n",
    "\tshow_x = row == assets_graph  # Mostrar solo en la última fila\n",
    "\tshow_y = col == 1 or is_histogram  # Mostrar en la primera columna o si es un histograma\n",
    "\n",
    "\tfig_pairplot.update_xaxes(\n",
    "\t\trange=x_range, tickformat=\".0%\", \n",
    "\t\tshowticklabels=show_x, row=row, col=col)\n",
    "\n",
    "\tfig_pairplot.update_yaxes(\n",
    "\t\trange=y_range, tickformat=\".0f\" if is_histogram else \".0%\", showticklabels=show_y, row=row, col=col)\n",
    "\n",
    "\n",
    "for i, asset_x in enumerate(assets):\n",
    "\tfor j, asset_y in enumerate(assets):\n",
    "\t\trow, col = i + 1, j + 1\n",
    "\n",
    "\t\tif i == j:  # Histograma\n",
    "\t\t\thist_values, bin_edges = np.histogram(datos[asset_x], bins=bins_hist, density=True)\n",
    "\t\t\tbin_centers = bin_edges[:-1] + np.diff(bin_edges) / 2\n",
    "\n",
    "\t\t\tfig_pairplot.add_trace(go.Bar(x=bin_centers, y=hist_values, marker=dict(opacity=1, color=get_color(i)), showlegend=False), row=row, col=col)\n",
    "\t\t\tactualizar_ejes(row, col, [x_min, x_max], [0, y_max_hist * 1.1], is_histogram=True)\n",
    "\n",
    "\t\telse:  # Gráfico de dispersión\n",
    "\t\t\tfig_pairplot.add_trace(go.Scatter(x=datos[asset_x], y=datos[asset_y], mode='markers', marker=dict(size=3, opacity=0.4, color=get_color(i)), showlegend=False), row=row, col=col)\n",
    "\t\t\tactualizar_ejes(row, col, [x_min, x_max], [x_min, x_max])\n",
    "\n",
    "\n",
    "fig_pairplot.update_layout(\n",
    "\twidth=1000, height=205*rows_graph, margin=dict(l=60, r=40, t=110, b=60), autosize=True, \n",
    "\ttitle=dict(text=graf_titulo, x=0.5, y=0.98))\n",
    "\n",
    "# Nombres de los activos en la parte superior y en la primera columna\n",
    "for i, asset in enumerate(assets):\n",
    "\tfig_pairplot.update_xaxes(title_text=f\"<b>{asset}</b>\", row=1, col=i+1, title_standoff=15, side='top')\n",
    "\tfig_pairplot.update_yaxes(title_text=f\"<b>{asset}</b>\", row=i+1, col=1)\n",
    "\n",
    "\n",
    "set_bloomberg_dark(fig_pairplot)\n",
    "fig_pairplot.show()\n"
   ]
  },
  {
   "cell_type": "markdown",
   "id": "deab924a",
   "metadata": {},
   "source": [
    "## 5.5 Matriz de Correlaciones"
   ]
  },
  {
   "cell_type": "code",
   "execution_count": null,
   "id": "a38d6177",
   "metadata": {},
   "outputs": [],
   "source": [
    "correlations = returns.corr().round(2)\n",
    "correlations"
   ]
  },
  {
   "cell_type": "code",
   "execution_count": null,
   "id": "7c8b343d",
   "metadata": {},
   "outputs": [],
   "source": [
    "datos = returns\n",
    "fecha_inicio = datos.index[0]\n",
    "fecha_fin = datos.index[-1]\n",
    "\n",
    "periodo = f\"{fecha_inicio.strftime('%d/%m/%Y')} - {fecha_fin.strftime('%d/%m/%Y')}\"\n",
    "graf_titulo = f'Matriz de Correlaciones | Período {periodo}'\n",
    "eje_x_titulo = f'Activo'\n",
    "eje_y_titulo_1 = f'Activo'\n",
    "\n",
    "correlations = datos.corr().round(2)\n",
    "tickers = correlations.index.tolist()\n",
    "correlation_values = correlations.values\n",
    "\n",
    "font_size_values = 16  # Tamaño de la fuente de los valores en la matriz\n",
    "label_padding = 10     # Distancia entre los rótulos y la matriz\n",
    "\n",
    "colorscale = get_colorscale(5)\n",
    "\n",
    "fig_corr = go.Figure()\n",
    "fig_corr.add_trace(\n",
    "\tgo.Heatmap(\n",
    "\t\tz=correlation_values, x=tickers, y=tickers, colorscale=colorscale, zmin=-1, zmax=1,\n",
    "\t\tcolorbar=dict(title=\"Correlación\"),\n",
    "\t\ttext=[[f\"{val:.2f}\" for val in row] for row in correlation_values],\n",
    "\t\ttexttemplate=\"<span style='font-size:{}px'>%{{text}}</span>\".format(font_size_values),\n",
    "\t\thovertemplate=\"<b>%{x}</b> vs <b>%{y}</b>: %{z:.2f}<extra></extra>\",\n",
    "\t)\n",
    ")\n",
    "\n",
    "fig_corr.update_layout(\n",
    "\twidth=700, height=600, margin=dict(l=80, r=40, t=105, b=40),\n",
    "    title=dict(text=graf_titulo, x=0.5, y=0.97),\n",
    "    xaxis=dict(title=eje_x_titulo, side=\"top\", title_standoff=label_padding),\n",
    "    yaxis=dict(title=eje_y_titulo_1, title_standoff=label_padding, autorange=\"reversed\",)\n",
    ")\n",
    "\n",
    "set_bloomberg_dark(fig_corr)\n",
    "# set_bloomberg_light(fig_corr)\n",
    "fig_corr.show()"
   ]
  },
  {
   "cell_type": "markdown",
   "id": "8d723b11",
   "metadata": {},
   "source": [
    "# 4. Performance metrics"
   ]
  },
  {
   "cell_type": "code",
   "execution_count": null,
   "id": "1c21bb14",
   "metadata": {},
   "outputs": [],
   "source": [
    "ahora = datetime.now().strftime(\"%Y-%m-%d %H:%M:%S\")\n",
    "end_time = time.time()\n",
    "execution_time = end_time - star_time\n",
    "\n",
    "print(f'Correctly executed. Date: {ahora}.')\n",
    "print(f'\\nExecution time: {round(execution_time, 2)} seconds.')"
   ]
  }
 ],
 "metadata": {
  "kernelspec": {
   "display_name": "Python 3",
   "language": "python",
   "name": "python3"
  },
  "language_info": {
   "codemirror_mode": {
    "name": "ipython",
    "version": 3
   },
   "file_extension": ".py",
   "mimetype": "text/x-python",
   "name": "python",
   "nbconvert_exporter": "python",
   "pygments_lexer": "ipython3",
   "version": "3.11.9"
  },
  "vscode": {
   "interpreter": {
    "hash": "ca0c463419cfe645a0c619001383d8905b1acb39f343118d279a91fecd9da474"
   }
  }
 },
 "nbformat": 4,
 "nbformat_minor": 5
}
